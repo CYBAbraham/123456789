{
 "cells": [
  {
   "cell_type": "markdown",
   "metadata": {},
   "source": [
    "Take a few minutes for each problem. Skip a problem if you get stuck because you can always go back to it later. \n",
    "\n",
    "Make sure you fill in any place that says `YOUR CODE HERE` with your code. Also, don't forget to remove the `pass` lines as well."
   ]
  },
  {
   "cell_type": "markdown",
   "metadata": {
    "deletable": false,
    "editable": false,
    "nbgrader": {
     "cell_type": "markdown",
     "checksum": "593336e97fc8c9ee24614abbffae7079",
     "grade": false,
     "grade_id": "cell-043a8a350fa7ed0a",
     "locked": true,
     "schema_version": 3,
     "solution": false
    }
   },
   "source": [
    "# DESN210/BTEC420 Quiz 0"
   ]
  },
  {
   "cell_type": "markdown",
   "metadata": {},
   "source": [
    "## Instructions"
   ]
  },
  {
   "cell_type": "markdown",
   "metadata": {},
   "source": [
    "The quiz is **open book**. You can use any class notes that you may have as well as any of the material that you can download from [Canvas](https://canvas.case.edu/). You are **not** able to get help from other students for this quiz."
   ]
  },
  {
   "cell_type": "markdown",
   "metadata": {},
   "source": [
    "The name of the notebook file, `Quiz0.ipynb`, will need to remain the same in order for me to properly download and grade it."
   ]
  },
  {
   "cell_type": "markdown",
   "metadata": {},
   "source": [
    "## Datatypes (6 points)"
   ]
  },
  {
   "cell_type": "markdown",
   "metadata": {},
   "source": [
    "You know your account balance and you go out to make a purchase. Update `calculate_new_balance` to return the new account balance."
   ]
  },
  {
   "cell_type": "code",
   "execution_count": 11,
   "metadata": {
    "deletable": false,
    "nbgrader": {
     "cell_type": "code",
     "checksum": "0cb735782925a4406a73073798528c0a",
     "grade": false,
     "grade_id": "cell-ecde1ba5d9a569d9",
     "locked": false,
     "schema_version": 3,
     "solution": true
    }
   },
   "outputs": [],
   "source": [
    "def calculate_new_balance(account_balance, purchase):\r\n",
    "    # YOUR CODE HERE\r\n",
    "    return account_balance-purchase"
   ]
  },
  {
   "cell_type": "code",
   "execution_count": 12,
   "metadata": {
    "deletable": false,
    "editable": false,
    "nbgrader": {
     "cell_type": "code",
     "checksum": "5c7262d18f374f9333e6106c4ed132db",
     "grade": true,
     "grade_id": "cell-0cd8e34deb86715a",
     "locked": true,
     "points": 1,
     "schema_version": 3,
     "solution": false
    }
   },
   "outputs": [],
   "source": [
    "#\r\n",
    "# DO NOT EDIT THIS BLOCK\r\n",
    "#\r\n",
    "observed = calculate_new_balance(45098, 12075)\r\n",
    "expected = 33023\r\n",
    "assert observed == expected, f\"\\nYou returned:\\n    {observed!r}\\ninstead of:\\n    {expected!r}\"\r\n",
    "\r\n",
    "observed = calculate_new_balance(10, 11)\r\n",
    "expected = -1\r\n",
    "assert observed == expected, f\"\\nYou returned:\\n    {observed!r}\\ninstead of:\\n    {expected!r}\""
   ]
  },
  {
   "cell_type": "markdown",
   "metadata": {},
   "source": [
    "We know a user's first and last name. Update `full_name` to return a string that is equal to the first name and last name joined together with a space in the middle."
   ]
  },
  {
   "cell_type": "code",
   "execution_count": 13,
   "metadata": {
    "deletable": false,
    "nbgrader": {
     "cell_type": "code",
     "checksum": "87ccb3bc6546815fea5c27cc3bdfa089",
     "grade": false,
     "grade_id": "cell-2286feff08917d07",
     "locked": false,
     "schema_version": 3,
     "solution": true
    }
   },
   "outputs": [],
   "source": [
    "def full_name(first_name, last_name):\r\n",
    "    # YOUR CODE HERE\r\n",
    "    return first_name+\" \"+last_name"
   ]
  },
  {
   "cell_type": "code",
   "execution_count": 14,
   "metadata": {
    "deletable": false,
    "editable": false,
    "nbgrader": {
     "cell_type": "code",
     "checksum": "1bef7f07efca8f9aa8f12b23927b3a1f",
     "grade": true,
     "grade_id": "cell-c896c95cfaca10a1",
     "locked": true,
     "points": 1,
     "schema_version": 3,
     "solution": false
    }
   },
   "outputs": [],
   "source": [
    "#\r\n",
    "# DO NOT EDIT THIS BLOCK\r\n",
    "#\r\n",
    "observed = full_name(\"John\", \"Doe\")\r\n",
    "expected = \"John Doe\"\r\n",
    "assert observed == expected, f\"\\nYou returned:\\n    {observed!r}\\ninstead of:\\n    {expected!r}\"\r\n",
    "\r\n",
    "observed = full_name(\"Jane\", \"Smith\")\r\n",
    "expected = \"Jane Smith\"\r\n",
    "assert observed == expected, f\"\\nYou returned:\\n    {observed!r}\\ninstead of:\\n    {expected!r}\""
   ]
  },
  {
   "cell_type": "markdown",
   "metadata": {},
   "source": [
    "Update `cash` to return a decimal object with a value of 1.33."
   ]
  },
  {
   "cell_type": "code",
   "execution_count": 18,
   "metadata": {
    "deletable": false,
    "nbgrader": {
     "cell_type": "code",
     "checksum": "5dbdc665d47a3cf0394c267054b77767",
     "grade": false,
     "grade_id": "cell-161605f13e14bdc6",
     "locked": false,
     "schema_version": 3,
     "solution": true,
     "task": false
    }
   },
   "outputs": [],
   "source": [
    "from decimal import Decimal\r\n",
    "\r\n",
    "def cash():\r\n",
    "    # YOUR CODE HERE\r\n",
    "    return Decimal.from_float(1.33)"
   ]
  },
  {
   "cell_type": "code",
   "execution_count": 19,
   "metadata": {
    "deletable": false,
    "editable": false,
    "nbgrader": {
     "cell_type": "code",
     "checksum": "36cc1fa437170f22e4a023930a463a4c",
     "grade": true,
     "grade_id": "cell-143511ef840610e9",
     "locked": true,
     "points": 1,
     "schema_version": 3,
     "solution": false,
     "task": false
    }
   },
   "outputs": [
    {
     "ename": "AssertionError",
     "evalue": "",
     "output_type": "error",
     "traceback": [
      "\u001b[1;31m---------------------------------------------------------------------------\u001b[0m",
      "\u001b[1;31mAssertionError\u001b[0m                            Traceback (most recent call last)",
      "\u001b[1;32m<ipython-input-19-d5bb3148d46e>\u001b[0m in \u001b[0;36m<module>\u001b[1;34m\u001b[0m\n\u001b[0;32m      4\u001b[0m \u001b[0mvalue\u001b[0m \u001b[1;33m=\u001b[0m \u001b[0mcash\u001b[0m\u001b[1;33m(\u001b[0m\u001b[1;33m)\u001b[0m\u001b[1;33m\u001b[0m\u001b[1;33m\u001b[0m\u001b[0m\n\u001b[0;32m      5\u001b[0m \u001b[1;32massert\u001b[0m \u001b[0misinstance\u001b[0m\u001b[1;33m(\u001b[0m\u001b[0mvalue\u001b[0m\u001b[1;33m,\u001b[0m \u001b[0mDecimal\u001b[0m\u001b[1;33m)\u001b[0m\u001b[1;33m\u001b[0m\u001b[1;33m\u001b[0m\u001b[0m\n\u001b[1;32m----> 6\u001b[1;33m \u001b[1;32massert\u001b[0m \u001b[0mvalue\u001b[0m\u001b[1;33m.\u001b[0m\u001b[0mas_tuple\u001b[0m\u001b[1;33m(\u001b[0m\u001b[1;33m)\u001b[0m\u001b[1;33m.\u001b[0m\u001b[0mdigits\u001b[0m \u001b[1;33m==\u001b[0m \u001b[1;33m(\u001b[0m\u001b[1;36m1\u001b[0m\u001b[1;33m,\u001b[0m \u001b[1;36m3\u001b[0m\u001b[1;33m,\u001b[0m \u001b[1;36m3\u001b[0m\u001b[1;33m)\u001b[0m\u001b[1;33m\u001b[0m\u001b[1;33m\u001b[0m\u001b[0m\n\u001b[0m",
      "\u001b[1;31mAssertionError\u001b[0m: "
     ]
    }
   ],
   "source": [
    "#\n",
    "# DO NOT EDIT THIS BLOCK\n",
    "#\n",
    "value = cash()\n",
    "assert isinstance(value, Decimal)\n",
    "assert value.as_tuple().digits == (1, 3, 3)"
   ]
  },
  {
   "cell_type": "markdown",
   "metadata": {},
   "source": [
    "Return the first character of the provided string `name`."
   ]
  },
  {
   "cell_type": "code",
   "execution_count": 20,
   "metadata": {
    "deletable": false,
    "nbgrader": {
     "cell_type": "code",
     "checksum": "6e12e6e1c3c83f2c61fca582fc66a619",
     "grade": false,
     "grade_id": "cell-41b5ca12e69ee2c6",
     "locked": false,
     "schema_version": 3,
     "solution": true,
     "task": false
    }
   },
   "outputs": [],
   "source": [
    "def first_character(name):\r\n",
    "    # YOUR CODE HERE\r\n",
    "    return list(name)[0]"
   ]
  },
  {
   "cell_type": "code",
   "execution_count": 21,
   "metadata": {
    "deletable": false,
    "editable": false,
    "nbgrader": {
     "cell_type": "code",
     "checksum": "afeefedab159379c50b5ea78d9fb0a08",
     "grade": true,
     "grade_id": "cell-ff5c751b602068b2",
     "locked": true,
     "points": 1,
     "schema_version": 3,
     "solution": false,
     "task": false
    }
   },
   "outputs": [],
   "source": [
    "#\n",
    "# DO NOT EDIT THIS BLOCK\n",
    "#\n",
    "observed = first_character(\"Milo\")\n",
    "expected = \"M\"\n",
    "assert observed == expected, f\"\\nYou returned:\\n    {observed!r}\\ninstead of:\\n    {expected!r}\"\n",
    "\n",
    "observed = first_character(\"Bill Gates\")\n",
    "expected = \"B\"\n",
    "assert observed == expected, f\"\\nYou returned:\\n    {observed!r}\\ninstead of:\\n    {expected!r}\""
   ]
  },
  {
   "cell_type": "markdown",
   "metadata": {},
   "source": [
    "Return the last character of the provided string `name`."
   ]
  },
  {
   "cell_type": "code",
   "execution_count": 22,
   "metadata": {
    "deletable": false,
    "nbgrader": {
     "cell_type": "code",
     "checksum": "052804e9d6b4ab741b1f6e9adb189c3a",
     "grade": false,
     "grade_id": "cell-9e2d6a0c1391150c",
     "locked": false,
     "schema_version": 3,
     "solution": true,
     "task": false
    }
   },
   "outputs": [],
   "source": [
    "def last_character(name):\r\n",
    "    # YOUR CODE HERE\r\n",
    "    return list(name)[-1]"
   ]
  },
  {
   "cell_type": "code",
   "execution_count": 23,
   "metadata": {
    "deletable": false,
    "editable": false,
    "nbgrader": {
     "cell_type": "code",
     "checksum": "0d201be00748fa7e6aa7424565dfa3b6",
     "grade": true,
     "grade_id": "cell-22abaaba3c487331",
     "locked": true,
     "points": 1,
     "schema_version": 3,
     "solution": false,
     "task": false
    }
   },
   "outputs": [],
   "source": [
    "#\n",
    "# DO NOT EDIT THIS BLOCK\n",
    "#\n",
    "observed = last_character(\"Milo\")\n",
    "expected = \"o\"\n",
    "assert observed == expected, f\"\\nYou returned:\\n    {observed!r}\\ninstead of:\\n    {expected!r}\"\n",
    "\n",
    "observed = last_character(\"Bill Gates\")\n",
    "expected = \"s\"\n",
    "assert observed == expected, f\"\\nYou returned:\\n    {observed!r}\\ninstead of:\\n    {expected!r}\""
   ]
  },
  {
   "cell_type": "markdown",
   "metadata": {},
   "source": [
    "Return the length of the provided string `name`. Use the builtin [len](https://docs.python.org/3/library/functions.html#len) function."
   ]
  },
  {
   "cell_type": "code",
   "execution_count": 24,
   "metadata": {
    "deletable": false,
    "nbgrader": {
     "cell_type": "code",
     "checksum": "19fe0d2f63bfe6b2ab678aee778242de",
     "grade": false,
     "grade_id": "cell-b7b671dcf50e7ce5",
     "locked": false,
     "schema_version": 3,
     "solution": true,
     "task": false
    }
   },
   "outputs": [],
   "source": [
    "def string_len(name):\r\n",
    "    # YOUR CODE HERE\r\n",
    "    return len(name)"
   ]
  },
  {
   "cell_type": "code",
   "execution_count": 25,
   "metadata": {
    "deletable": false,
    "editable": false,
    "nbgrader": {
     "cell_type": "code",
     "checksum": "6910e6d43cfe9ac377e7f42eae83d285",
     "grade": true,
     "grade_id": "cell-19089c7a9184fbd5",
     "locked": true,
     "points": 1,
     "schema_version": 3,
     "solution": false,
     "task": false
    }
   },
   "outputs": [],
   "source": [
    "#\n",
    "# DO NOT EDIT THIS BLOCK\n",
    "#\n",
    "observed = string_len(\"Milo\")\n",
    "expected = 4\n",
    "assert observed == expected, f\"\\nYou returned:\\n    {observed!r}\\ninstead of:\\n    {expected!r}\"\n",
    "\n",
    "observed = string_len(\"Bill Gates\")\n",
    "expected = 10\n",
    "assert observed == expected, f\"\\nYou returned:\\n    {observed!r}\\ninstead of:\\n    {expected!r}\""
   ]
  },
  {
   "cell_type": "markdown",
   "metadata": {},
   "source": [
    "## Lists (6 points)"
   ]
  },
  {
   "cell_type": "markdown",
   "metadata": {},
   "source": [
    "Return a list of integers. Any integers will do as long as there are more than one in the list."
   ]
  },
  {
   "cell_type": "code",
   "execution_count": 28,
   "metadata": {
    "deletable": false,
    "nbgrader": {
     "cell_type": "code",
     "checksum": "4ef2c73f40b9fd3156b4f2d9b7daefaf",
     "grade": false,
     "grade_id": "cell-47bd2b043d78f2ac",
     "locked": false,
     "schema_version": 3,
     "solution": true,
     "task": false
    }
   },
   "outputs": [],
   "source": [
    "def numbers():\r\n",
    "    # YOUR CODE HERE\r\n",
    "    from random import randint\r\n",
    "    numbers=[]\r\n",
    "    a=randint(1,10)\r\n",
    "    for i in range(a):\r\n",
    "        numbers.append(randint(1,10))\r\n",
    "    return numbers"
   ]
  },
  {
   "cell_type": "code",
   "execution_count": 29,
   "metadata": {
    "deletable": false,
    "editable": false,
    "nbgrader": {
     "cell_type": "code",
     "checksum": "e618468942c7a75b0c4dd32b43c71cfa",
     "grade": true,
     "grade_id": "cell-83d7c32048d6a491",
     "locked": true,
     "points": 1,
     "schema_version": 3,
     "solution": false,
     "task": false
    }
   },
   "outputs": [],
   "source": [
    "#\n",
    "# DO NOT EDIT THIS BLOCK\n",
    "#\n",
    "rv = numbers()\n",
    "assert len(rv) > 1, \"Does your list have more than 1 number?\"\n",
    "assert all(isinstance(n, int) for n in rv), \\\n",
    "    \"Does your list contain only integers?\""
   ]
  },
  {
   "cell_type": "markdown",
   "metadata": {},
   "source": [
    "Use the correct index to pull data from the list. Update `joker` and use the indexing capability of lists to return the last value in the list."
   ]
  },
  {
   "cell_type": "code",
   "execution_count": 31,
   "metadata": {
    "deletable": false,
    "nbgrader": {
     "cell_type": "code",
     "checksum": "05b8368d9378bda1f4b1102d90212133",
     "grade": false,
     "grade_id": "cell-f86f0a4ffaf52d12",
     "locked": false,
     "schema_version": 3,
     "solution": true
    }
   },
   "outputs": [],
   "source": [
    "cards = [\"Ace\", \"King\", \"Queen\", \"Joker\"]\r\n",
    "\r\n",
    "def joker(cards):\r\n",
    "    # YOUR CODE HERE\r\n",
    "    return cards[cards.index(\"Joker\")]\r\n",
    "   "
   ]
  },
  {
   "cell_type": "code",
   "execution_count": 32,
   "metadata": {
    "deletable": false,
    "editable": false,
    "nbgrader": {
     "cell_type": "code",
     "checksum": "9a09de9007915c58e24207caca033311",
     "grade": true,
     "grade_id": "cell-010f581e2a503d0d",
     "locked": true,
     "points": 1,
     "schema_version": 3,
     "solution": false
    }
   },
   "outputs": [],
   "source": [
    "#\n",
    "# DO NOT EDIT THIS BLOCK\n",
    "#\n",
    "assert joker(cards) == \"Joker\"\n",
    "assert observed == expected, f\"\\nYou returned:\\n    {observed!r}\\ninstead of:\\n    {expected!r}\""
   ]
  },
  {
   "cell_type": "markdown",
   "metadata": {},
   "source": [
    "Using a slice, return everything except the first and last elements of the provided list."
   ]
  },
  {
   "cell_type": "code",
   "execution_count": 35,
   "metadata": {
    "deletable": false,
    "nbgrader": {
     "cell_type": "code",
     "checksum": "d84f0a2f050324ed5622040760ed2b2b",
     "grade": false,
     "grade_id": "cell-5e5f28a7dca795e9",
     "locked": false,
     "schema_version": 3,
     "solution": true
    }
   },
   "outputs": [],
   "source": [
    "def middle(items):\r\n",
    "    # YOUR CODE HERE\r\n",
    "    return items[1:-1]"
   ]
  },
  {
   "cell_type": "code",
   "execution_count": 36,
   "metadata": {
    "deletable": false,
    "editable": false,
    "nbgrader": {
     "cell_type": "code",
     "checksum": "f9b66cd0da413fb5cdfb86289bba6904",
     "grade": true,
     "grade_id": "cell-6b165fc3a3a003df",
     "locked": true,
     "points": 2,
     "schema_version": 3,
     "solution": false
    }
   },
   "outputs": [],
   "source": [
    "#\n",
    "# DO NOT EDIT THIS BLOCK\n",
    "#\n",
    "assert middle([\"Ace\", \"King\", \"Queen\", \"Joker\"]) == [\"King\", \"Queen\"]\n",
    "assert observed == expected, f\"\\nYou returned:\\n    {observed!r}\\ninstead of:\\n    {expected!r}\"\n",
    "\n",
    "assert middle(list(range(8))) == list(range(1, 7))\n",
    "assert observed == expected, f\"\\nYou returned:\\n    {observed!r}\\ninstead of:\\n    {expected!r}\""
   ]
  },
  {
   "cell_type": "markdown",
   "metadata": {},
   "source": [
    "Append the new value from `val` to the end of the `things` list."
   ]
  },
  {
   "cell_type": "code",
   "execution_count": 37,
   "metadata": {
    "deletable": false,
    "nbgrader": {
     "cell_type": "code",
     "checksum": "460457d9123789b0ecb7820d9bc2b975",
     "grade": false,
     "grade_id": "cell-0e5f8d9f334f8631",
     "locked": false,
     "schema_version": 3,
     "solution": true,
     "task": false
    }
   },
   "outputs": [],
   "source": [
    "def add_to_things(val, things):\r\n",
    "    # YOUR CODE HERE\r\n",
    "    things.append(val)\r\n",
    "    return things"
   ]
  },
  {
   "cell_type": "code",
   "execution_count": 38,
   "metadata": {
    "deletable": false,
    "editable": false,
    "nbgrader": {
     "cell_type": "code",
     "checksum": "72cb768720153cdd7f5b34f2ee5b372c",
     "grade": true,
     "grade_id": "cell-03b476068965e448",
     "locked": true,
     "points": 2,
     "schema_version": 3,
     "solution": false,
     "task": false
    }
   },
   "outputs": [],
   "source": [
    "#\n",
    "# DO NOT EDIT THIS BLOCK\n",
    "#\n",
    "t0 = []\n",
    "add_to_things(\"apple\", t0)\n",
    "assert t0 == [\"apple\"]\n",
    "assert observed == expected, f\"\\nYou returned:\\n    {observed!r}\\ninstead of:\\n    {expected!r}\"\n",
    "\n",
    "t1 = [\"\"]\n",
    "add_to_things(\"laptop\", t1)\n",
    "assert t1 == [\"\", \"laptop\"]\n",
    "assert observed == expected, f\"\\nYou returned:\\n    {observed!r}\\ninstead of:\\n    {expected!r}\""
   ]
  },
  {
   "cell_type": "markdown",
   "metadata": {},
   "source": [
    "## Dictionaries (5 points)"
   ]
  },
  {
   "cell_type": "markdown",
   "metadata": {},
   "source": [
    "Return an empty dictionary."
   ]
  },
  {
   "cell_type": "code",
   "execution_count": 39,
   "metadata": {
    "deletable": false,
    "nbgrader": {
     "cell_type": "code",
     "checksum": "007c4a69f8a5ecd760b7fcaf61bbeaa6",
     "grade": false,
     "grade_id": "cell-1be66c3b435f6bad",
     "locked": false,
     "schema_version": 3,
     "solution": true,
     "task": false
    }
   },
   "outputs": [],
   "source": [
    "def empty_dict():\r\n",
    "    # YOUR CODE HERE\r\n",
    "    return {}"
   ]
  },
  {
   "cell_type": "code",
   "execution_count": 40,
   "metadata": {
    "deletable": false,
    "editable": false,
    "nbgrader": {
     "cell_type": "code",
     "checksum": "106d53508e24c7090b45516793e83526",
     "grade": true,
     "grade_id": "cell-8ff1171078b95e5f",
     "locked": true,
     "points": 1,
     "schema_version": 3,
     "solution": false,
     "task": false
    }
   },
   "outputs": [],
   "source": [
    "#\n",
    "# DO NOT EDIT THIS BLOCK\n",
    "#\n",
    "rv = empty_dict()\n",
    "assert isinstance(rv, dict), \"You have not returned a dictionary.\"\n",
    "assert len(rv) == 0, \"Your dictionary is not empty.\""
   ]
  },
  {
   "cell_type": "markdown",
   "metadata": {},
   "source": [
    "Return a dictionary with a single key called `name` and the value should be your first name."
   ]
  },
  {
   "cell_type": "code",
   "execution_count": 53,
   "metadata": {
    "deletable": false,
    "nbgrader": {
     "cell_type": "code",
     "checksum": "401165b4e40b74e70f511a605a3a7074",
     "grade": false,
     "grade_id": "cell-5de98b9e5525e699",
     "locked": false,
     "schema_version": 3,
     "solution": true,
     "task": false
    }
   },
   "outputs": [],
   "source": [
    "def me():\r\n",
    "    # YOUR CODE HERE\r\n",
    "    return {'name':\"Weihao\"}"
   ]
  },
  {
   "cell_type": "code",
   "execution_count": 54,
   "metadata": {
    "deletable": false,
    "editable": false,
    "nbgrader": {
     "cell_type": "code",
     "checksum": "c5ac6442c6b287a27749aea1db57cdc3",
     "grade": true,
     "grade_id": "cell-70ff84d25367dcfd",
     "locked": true,
     "points": 1,
     "schema_version": 3,
     "solution": false,
     "task": false
    }
   },
   "outputs": [],
   "source": [
    "#\n",
    "# DO NOT EDIT THIS BLOCK\n",
    "#\n",
    "rv = me()\n",
    "assert isinstance(rv, dict), \"You have not returned a dictionary.\"\n",
    "assert rv.get(\"name\"), \"Your dictionary does not have a name key.\"\n",
    "assert isinstance(rv[\"name\"], str), \\\n",
    "    \"It doesn't look like you dictionary contains your name.\""
   ]
  },
  {
   "cell_type": "markdown",
   "metadata": {},
   "source": [
    "Add a new key to a dictionary. The dictionary is named `things`, the key is named `key` and the value is named `value`."
   ]
  },
  {
   "cell_type": "code",
   "execution_count": 55,
   "metadata": {
    "deletable": false,
    "nbgrader": {
     "cell_type": "code",
     "checksum": "50ce65cba504bf396ed31e68f4016451",
     "grade": false,
     "grade_id": "cell-ca8308d54b7710b1",
     "locked": false,
     "schema_version": 3,
     "solution": true,
     "task": false
    }
   },
   "outputs": [],
   "source": [
    "def add_key_value(things, key, value):\r\n",
    "    # YOUR CODE HERE\r\n",
    "    things[key]=value"
   ]
  },
  {
   "cell_type": "code",
   "execution_count": 56,
   "metadata": {
    "deletable": false,
    "editable": false,
    "nbgrader": {
     "cell_type": "code",
     "checksum": "6d749de0a108a25ab721a3c29af9fd8f",
     "grade": true,
     "grade_id": "cell-6fb3584e5fd8203b",
     "locked": true,
     "points": 1,
     "schema_version": 3,
     "solution": false,
     "task": false
    }
   },
   "outputs": [],
   "source": [
    "#\n",
    "# DO NOT EDIT THIS BLOCK\n",
    "#\n",
    "t0 = {}\n",
    "add_key_value(t0, \"fav\", \"pizza\")\n",
    "expected = {\"fav\": \"pizza\"}\n",
    "assert t0 == expected, f\"\\nYou returned:\\n    {observed!r}\\ninstead of:\\n    {expected!r}\"\n",
    "\n",
    "t1 = {\"name\": \"John\"}\n",
    "add_key_value(t1, \"address\", \"123 Main St.\")\n",
    "expected = {\"name\": \"John\", \"address\": \"123 Main St.\"}\n",
    "assert t1 == expected, f\"\\nYou returned:\\n    {observed!r}\\ninstead of:\\n    {expected!r}\""
   ]
  },
  {
   "cell_type": "markdown",
   "metadata": {},
   "source": [
    "Return a value for `key` from the provided dictionary `data`. If the key doesn't exist in the dictionary the return the string `\"not found\"`."
   ]
  },
  {
   "cell_type": "code",
   "execution_count": 72,
   "metadata": {
    "deletable": false,
    "nbgrader": {
     "cell_type": "code",
     "checksum": "99c524c86dfc456bc3b2f13c1566a1aa",
     "grade": false,
     "grade_id": "cell-6ec2f6a6112c49ef",
     "locked": false,
     "schema_version": 3,
     "solution": true,
     "task": false
    }
   },
   "outputs": [],
   "source": [
    "def safe_get(data, key):\r\n",
    "    # YOUR CODE HERE\r\n",
    "    try:\r\n",
    "        return  data[key]\r\n",
    "    except:\r\n",
    "        return \"not found\"\r\n",
    "    "
   ]
  },
  {
   "cell_type": "code",
   "execution_count": 73,
   "metadata": {
    "deletable": false,
    "editable": false,
    "nbgrader": {
     "cell_type": "code",
     "checksum": "b88cddcf479fc909f15ef264d34c753c",
     "grade": true,
     "grade_id": "cell-47e869c57a7a6849",
     "locked": true,
     "points": 2,
     "schema_version": 3,
     "solution": false,
     "task": false
    }
   },
   "outputs": [],
   "source": [
    "#\n",
    "# DO NOT EDIT THIS BLOCK\n",
    "#\n",
    "observed = safe_get({}, \"anything\")\n",
    "expected = \"not found\"\n",
    "assert observed == expected, f\"\\nYou returned:\\n    {observed!r}\\ninstead of:\\n    {expected!r}\"\n",
    "\n",
    "observed = safe_get({\"watch\": \"tv\"}, \"watch\")\n",
    "expected = \"tv\"\n",
    "assert observed == expected, f\"\\nYou returned:\\n    {observed!r}\\ninstead of:\\n    {expected!r}\""
   ]
  },
  {
   "cell_type": "markdown",
   "metadata": {},
   "source": [
    "### Conditionals (3 points)"
   ]
  },
  {
   "cell_type": "markdown",
   "metadata": {},
   "source": [
    "Use an `if-elif-else` to implement the following logic given two names `name0` and `name1`:\n",
    "\n",
    " 1. If `name0` and `name1` are the same length return `\"same\"`\n",
    " 2. If `name0` is longer than `name1` return `\"longer\"`\n",
    " 3. If `name0` is shorter than `name1` return `\"shorter\"`\n",
    " \n",
    " ***Hint:*** Use the `len()` builtin that you used earlier!"
   ]
  },
  {
   "cell_type": "code",
   "execution_count": 64,
   "metadata": {
    "deletable": false,
    "nbgrader": {
     "cell_type": "code",
     "checksum": "77ab6f3ec90df632bbe64ad92e92593d",
     "grade": false,
     "grade_id": "cell-869277c9bd9fd9c0",
     "locked": false,
     "schema_version": 3,
     "solution": true,
     "task": false
    }
   },
   "outputs": [],
   "source": [
    "def compare_names(name0, name1):\r\n",
    "    # YOUR CODE HERE\r\n",
    "    if len(name0) == len(name1):\r\n",
    "        return \"same\"\r\n",
    "    elif len(name0) > len(name1):\r\n",
    "        return \"longer\"\r\n",
    "    else:\r\n",
    "        return \"shorter\""
   ]
  },
  {
   "cell_type": "code",
   "execution_count": 65,
   "metadata": {
    "deletable": false,
    "editable": false,
    "nbgrader": {
     "cell_type": "code",
     "checksum": "b698f8a00e8aebd31b167b3beef26a21",
     "grade": true,
     "grade_id": "cell-008b0646f8a9f891",
     "locked": true,
     "points": 3,
     "schema_version": 3,
     "solution": false,
     "task": false
    }
   },
   "outputs": [],
   "source": [
    "#\n",
    "# DO NOT EDIT THIS BLOCK\n",
    "#\n",
    "observed = compare_names(\"Dodge\", \"Chevy\")\n",
    "expected = \"same\"\n",
    "assert observed == expected, f\"\\nYou returned:\\n    {observed!r}\\ninstead of:\\n    {expected!r}\"\n",
    "\n",
    "observed = compare_names(\"Dodge\", \"BMW\")\n",
    "expected = \"longer\"\n",
    "assert observed == expected, f\"\\nYou returned:\\n    {observed!r}\\ninstead of:\\n    {expected!r}\"\n",
    "\n",
    "observed = compare_names(\"Audi\", \"Mercedes\")\n",
    "expected = \"shorter\"\n",
    "assert observed == expected, f\"\\nYou returned:\\n    {observed!r}\\ninstead of:\\n    {expected!r}\""
   ]
  }
 ],
 "metadata": {
  "interpreter": {
   "hash": "3ec308bf959c3807c03d0d783fe82d0d6190cb7cdc9100206de99491a214d088"
  },
  "kernelspec": {
   "display_name": "Python 3.9.2 64-bit",
   "name": "python3"
  },
  "language_info": {
   "codemirror_mode": {
    "name": "ipython",
    "version": 3
   },
   "file_extension": ".py",
   "mimetype": "text/x-python",
   "name": "python",
   "nbconvert_exporter": "python",
   "pygments_lexer": "ipython3",
   "version": "3.9.2"
  }
 },
 "nbformat": 4,
 "nbformat_minor": 2
}